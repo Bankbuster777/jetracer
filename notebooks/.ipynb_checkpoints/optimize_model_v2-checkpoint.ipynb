{
 "cells": [
  {
   "cell_type": "markdown",
   "id": "ea829f08",
   "metadata": {},
   "source": [
    "### Optimize model with TensorRT"
   ]
  },
  {
   "cell_type": "markdown",
   "id": "4ae41c86",
   "metadata": {},
   "source": [
    "First, create the model. This must match the model used in the interactive training notebook (interactive_regression.ipynb)."
   ]
  },
  {
   "cell_type": "code",
   "execution_count": 1,
   "id": "73ea2401",
   "metadata": {},
   "outputs": [],
   "source": [
    "import cv2\n",
    "import torch\n",
    "import torchvision\n",
    "\n",
    "CATEGORIES = ['apex']\n",
    "\n",
    "device = torch.device('cuda')\n",
    "model = torchvision.models.resnet18(pretrained=False)\n",
    "model.fc = torch.nn.Linear(512, 2 * len(CATEGORIES))\n",
    "model = model.cuda().eval().half()"
   ]
  },
  {
   "cell_type": "code",
   "execution_count": 2,
   "id": "09708e9b",
   "metadata": {},
   "outputs": [
    {
     "data": {
      "text/plain": [
       "<All keys matched successfully>"
      ]
     },
     "execution_count": 2,
     "metadata": {},
     "output_type": "execute_result"
    }
   ],
   "source": [
    "model.load_state_dict(torch.load('home_following_model_230812.pth')) # load the model (not trt)"
   ]
  },
  {
   "cell_type": "markdown",
   "id": "14fd2226",
   "metadata": {},
   "source": [
    "Convert and optimize the model using torch2trt for faster inference with TensorRT. Please see the torch2trt readme for more details.\n",
    "\n",
    "The following optimization process can take a couple minutes to complete."
   ]
  },
  {
   "cell_type": "code",
   "execution_count": 3,
   "id": "5bf214c6",
   "metadata": {},
   "outputs": [],
   "source": [
    "from torch2trt import torch2trt\n",
    "\n",
    "data = torch.zeros((1, 3, 224, 224)).cuda().half()\n",
    "\n",
    "model_trt = torch2trt(model, [data], fp16_mode=True)"
   ]
  },
  {
   "cell_type": "code",
   "execution_count": 4,
   "id": "c7cdeaa0",
   "metadata": {},
   "outputs": [],
   "source": [
    "torch.save(model_trt.state_dict(), 'home_following_model_230812_trt.pth') # save the model to trt model"
   ]
  },
  {
   "cell_type": "markdown",
   "id": "753b3f6e",
   "metadata": {},
   "source": [
    "Then go to road_following_live_v2.ipynb"
   ]
  }
 ],
 "metadata": {
  "kernelspec": {
   "display_name": "Python 3",
   "language": "python",
   "name": "python3"
  },
  "language_info": {
   "codemirror_mode": {
    "name": "ipython",
    "version": 3
   },
   "file_extension": ".py",
   "mimetype": "text/x-python",
   "name": "python",
   "nbconvert_exporter": "python",
   "pygments_lexer": "ipython3",
   "version": "3.6.9"
  }
 },
 "nbformat": 4,
 "nbformat_minor": 5
}
